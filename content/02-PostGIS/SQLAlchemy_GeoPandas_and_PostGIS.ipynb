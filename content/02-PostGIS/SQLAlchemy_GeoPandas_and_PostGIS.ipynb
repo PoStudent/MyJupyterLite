{
 "cells": [
  {
   "cell_type": "markdown",
   "metadata": {},
   "source": [
    "# SQLAlchemy, GeoPandas and PostGIS #\n",
    "This notebook covers a basic introduction to the SQLAlchemy, GeoPandas and PostGIS.\n",
    "\n",
    "In this notebook we will..."
   ]
  },
  {
   "cell_type": "markdown",
   "metadata": {},
   "source": [
    "## 0. Version Checks"
   ]
  },
  {
   "cell_type": "code",
   "execution_count": 1,
   "metadata": {},
   "outputs": [
    {
     "data": {
      "text/plain": [
       "'1.4.44'"
      ]
     },
     "execution_count": 1,
     "metadata": {},
     "output_type": "execute_result"
    }
   ],
   "source": [
    "import sqlalchemy\n",
    "sqlalchemy.__version__"
   ]
  },
  {
   "cell_type": "code",
   "execution_count": 2,
   "metadata": {},
   "outputs": [
    {
     "data": {
      "text/plain": [
       "'1.5.1'"
      ]
     },
     "execution_count": 2,
     "metadata": {},
     "output_type": "execute_result"
    }
   ],
   "source": [
    "import pandas as pd\n",
    "pd.__version__"
   ]
  },
  {
   "cell_type": "code",
   "execution_count": 3,
   "metadata": {},
   "outputs": [
    {
     "data": {
      "text/plain": [
       "'0.12.1'"
      ]
     },
     "execution_count": 3,
     "metadata": {},
     "output_type": "execute_result"
    }
   ],
   "source": [
    "import geopandas as gpd\n",
    "gpd.__version__"
   ]
  },
  {
   "cell_type": "markdown",
   "metadata": {},
   "source": [
    "## 1. Connect to the DB Cluster\n",
    "GeoAlchemy relies on the `create_engine()` function from `SQLAlchemy` to manage DB connections."
   ]
  },
  {
   "cell_type": "code",
   "execution_count": 4,
   "metadata": {},
   "outputs": [],
   "source": [
    "from sqlalchemy import create_engine"
   ]
  },
  {
   "cell_type": "code",
   "execution_count": 5,
   "metadata": {},
   "outputs": [],
   "source": [
    "pguser = 'matthew'\n",
    "pgpassword = 'gVu*vdyt6xEPjHgc'\n",
    "pghost = 'pg-testbench.internal.myheat.ca'\n",
    "pgport = '5432'\n",
    "pgdb = 'my_new_db'\n",
    "pgconstring = f'postgresql://{pguser}:{pgpassword}@{pghost}:{pgport}/{pgdb}'"
   ]
  },
  {
   "cell_type": "code",
   "execution_count": 6,
   "metadata": {},
   "outputs": [],
   "source": [
    "engine = create_engine(pgconstring, echo=True)"
   ]
  },
  {
   "cell_type": "code",
   "execution_count": 9,
   "metadata": {},
   "outputs": [
    {
     "data": {
      "text/plain": [
       "sqlalchemy.engine.base.Engine"
      ]
     },
     "execution_count": 9,
     "metadata": {},
     "output_type": "execute_result"
    }
   ],
   "source": [
    "type(engine)"
   ]
  },
  {
   "cell_type": "code",
   "execution_count": 7,
   "metadata": {},
   "outputs": [
    {
     "data": {
      "text/plain": [
       "sqlalchemy.engine.base.Engine"
      ]
     },
     "execution_count": 7,
     "metadata": {},
     "output_type": "execute_result"
    }
   ],
   "source": [
    "type(engine)"
   ]
  },
  {
   "cell_type": "markdown",
   "metadata": {},
   "source": [
    "## 2. Test Our DB Connection\n",
    "We can test our DB connection be loading our `polygons` table / feature class into a GeoPandas DataFrame.\n",
    "\n",
    "To do this we will define a custom function to both handle errors and to format the GeoDataFrame:"
   ]
  },
  {
   "cell_type": "code",
   "execution_count": 8,
   "metadata": {},
   "outputs": [
    {
     "ename": "NameError",
     "evalue": "name 'postgis2gdf' is not defined",
     "output_type": "error",
     "traceback": [
      "\u001b[0;31m---------------------------------------------------------------------------\u001b[0m",
      "\u001b[0;31mNameError\u001b[0m                                 Traceback (most recent call last)",
      "Cell \u001b[0;32mIn [8], line 3\u001b[0m\n\u001b[1;32m      1\u001b[0m \u001b[39m# polygons_query = \"SELECT * FROM polygons WHERE name = 'Wales'\"\u001b[39;00m\n\u001b[1;32m      2\u001b[0m polygons_query \u001b[39m=\u001b[39m \u001b[39m\"\u001b[39m\u001b[39mSELECT * FROM polygons\u001b[39m\u001b[39m\"\u001b[39m\n\u001b[0;32m----> 3\u001b[0m polygons_gdf \u001b[39m=\u001b[39m postgis2gdf(polygons_query, engine)\n",
      "\u001b[0;31mNameError\u001b[0m: name 'postgis2gdf' is not defined"
     ]
    }
   ],
   "source": [
    "def postgis2gdf(query: str, engine: sqlalchemy.engine.base.Engine) -> gpd.GeoDataFrame:\n",
    "    \"\"\"\n",
    "    Executes an SQL query against a PostGIS database and returns\n",
    "    the result as a GeoDataFrame.\n",
    "\n",
    "    NOTE: Requires GeoPandas imported as `gpd`\n",
    "\n",
    "    Args:\n",
    "        query (str): SQL 'SELECT' query to execute \n",
    "        engine (sqlalchemy.engine.base.Engine): Engine connected to the target database\n",
    "\n",
    "    Returns:\n",
    "        gpd.GeoDataFrame: Resulting GeoDataFrame\n",
    "    \"\"\"\n",
    "    try:\n",
    "        gdf = gpd.read_postgis(query, engine, index_col='gid')\n",
    "    except Exception as err:\n",
    "        print(f'\\n!!ERROR!! {err}')\n",
    "        return None\n",
    "\n",
    "    return gdf\n",
    "    "
   ]
  },
  {
   "cell_type": "code",
   "execution_count": null,
   "metadata": {},
   "outputs": [],
   "source": [
    "# polygons_query = \"SELECT * FROM polygons WHERE name = 'Wales'\"\n",
    "polygons_query = \"SELECT * FROM polygons\"\n",
    "polygons_gdf = postgis2gdf(polygons_query, engine)"
   ]
  },
  {
   "cell_type": "code",
   "execution_count": null,
   "metadata": {},
   "outputs": [],
   "source": [
    "polygons_gdf"
   ]
  },
  {
   "cell_type": "code",
   "execution_count": null,
   "metadata": {},
   "outputs": [],
   "source": [
    "polygons_gdf.crs"
   ]
  },
  {
   "cell_type": "markdown",
   "metadata": {},
   "source": [
    "Boo-Ya! It looks like we're in business =D"
   ]
  },
  {
   "cell_type": "markdown",
   "metadata": {},
   "source": [
    "## 3. Importing Spatial Data with GeoPandas ##\n",
    "\n",
    "We can import SHP files, GeoPackages, GeoJSON, etc. all with the `read_file()` function.\n",
    "\n",
    "However, we will wrap this in a function both to handle errors and to make sure that the resulting DataFrame conforms to our PostGIS conventions.\n",
    "\n",
    "For this example, let's import the `points.shp` file:"
   ]
  },
  {
   "cell_type": "code",
   "execution_count": null,
   "metadata": {},
   "outputs": [],
   "source": [
    "# Define an import function to both handle errors and to format the indices\n",
    "def file2gdf(file_in: str) -> gpd.GeoDataFrame:\n",
    "    \"\"\"\n",
    "    Reads a geometry datafile (SHP, GPKG, GeoJSON, etc)\n",
    "    into a GeoDataFrame using the MyHEAT index conventions. \n",
    "\n",
    "    Args:\n",
    "        file_in (str): Input file path\n",
    "\n",
    "    Returns:\n",
    "        gpd.GeoDataFrame: Resulting GeoDataFrame\n",
    "    \"\"\"\n",
    "    try:\n",
    "        gdf = gpd.read_file(file_in)\n",
    "    except Exception as ex:\n",
    "        print(ex)\n",
    "        return None\n",
    "    \n",
    "    # Check if table already contains a `gid`\n",
    "    if 'gid' in gdf.columns:\n",
    "        gdf.set_index('gid')\n",
    "    else:\n",
    "        gdf.index.names = ['gid']\n",
    "        gdf.index = gdf.index + 1\n",
    "    \n",
    "    gdf.rename_geometry('geom', inplace=True)\n",
    "\n",
    "    return gdf\n",
    "        "
   ]
  },
  {
   "cell_type": "code",
   "execution_count": null,
   "metadata": {},
   "outputs": [],
   "source": [
    "fn = \"./sample_data/points.shp\"\n",
    "points_gdf = file2gdf(fn)\n",
    "points_gdf"
   ]
  },
  {
   "cell_type": "code",
   "execution_count": null,
   "metadata": {},
   "outputs": [],
   "source": [
    "points_gdf.info()"
   ]
  },
  {
   "cell_type": "markdown",
   "metadata": {},
   "source": [
    "Primarily what GeoPandas adds to regular Pandas is the `geometery` dtype.\n",
    "\n",
    "Let's take a closer look at this:"
   ]
  },
  {
   "cell_type": "code",
   "execution_count": null,
   "metadata": {},
   "outputs": [],
   "source": [
    "points_gdf.iloc[0]['geom'].geom_type"
   ]
  },
  {
   "cell_type": "code",
   "execution_count": null,
   "metadata": {},
   "outputs": [],
   "source": [
    "points_gdf.iloc[0]['geom'].coords[:]"
   ]
  },
  {
   "cell_type": "code",
   "execution_count": null,
   "metadata": {},
   "outputs": [],
   "source": [
    "points_gdf.crs"
   ]
  },
  {
   "cell_type": "markdown",
   "metadata": {},
   "source": [
    "Yup, it's just that easy!"
   ]
  },
  {
   "cell_type": "markdown",
   "metadata": {},
   "source": [
    "## 4. Exporting to PostGIS / Postgres ##\n",
    "\n",
    "In this next section we will use GeoPandas to export our spatial DataFrame to our PostGIS DB.\n",
    "\n",
    "The syntax for this is `geopandas.to_postgis('table_name', db_engine, index=True, index_label='gid')`.\n",
    "\n",
    "Again, we will define a custom function here for error handling and to correctly setup the spatial index:"
   ]
  },
  {
   "cell_type": "code",
   "execution_count": null,
   "metadata": {},
   "outputs": [],
   "source": [
    "# Define a function for exporting our GeoDataFrame to PostGIS following our \n",
    "def gdf2postgis(gdf: gpd.GeoDataFrame, engine: sqlalchemy.engine.base.Engine, table_name: str, if_exists='replace'):\n",
    "    \"\"\"\n",
    "    Exports a MyHEAT GeoDataFrame to a PostGIS \n",
    "\n",
    "    Args:\n",
    "        gdf (gpd.GeoDataFrame): Source GeoDataFrame\n",
    "        engine (sqlalchemy.engine.base.Engine): DB engine connected to the destination database\n",
    "        table_name (str): Name of the table to create\n",
    "        if_exists: {'fail', 'replace', 'append'}, default 'replace'\n",
    "    \"\"\"\n",
    "    try:\n",
    "        gdf.to_postgis(table_name, engine, if_exists=if_exists, index=True, index_label='gid')\n",
    "    except Exception as oops:\n",
    "        print(f'\\n!!ERROR!! {oops}')\n",
    "        return None\n",
    "\n",
    "    # Check if the sequence for gid already exists, and if not, create it\n",
    "    with engine.connect() as con:\n",
    "        seqs = con.execute(f'SELECT relname FROM pg_class WHERE relkind = \\'S\\'')\n",
    "        if(f'{table_name}_gid_seq' in [i.relname for i in seqs]):\n",
    "            return\n",
    "        else:\n",
    "            con.execute(f'CREATE SEQUENCE {table_name}_gid_seq OWNED BY {table_name}.gid;')\n",
    "            con.execute(f'ALTER TABLE {table_name} ALTER COLUMN gid SET DEFAULT nextval(\\'{table_name}_gid_seq\\');')\n",
    "            con.execute(f'ALTER TABLE {table_name} ADD PRIMARY KEY (gid);')"
   ]
  },
  {
   "cell_type": "code",
   "execution_count": null,
   "metadata": {},
   "outputs": [],
   "source": [
    "gdf2postgis(points_gdf, engine, 'points')"
   ]
  },
  {
   "cell_type": "markdown",
   "metadata": {},
   "source": [
    "## 5 Full Circle ##\n",
    "\n",
    "Finally let's try recalling our points GeoDataFrame from our DB just to prove everything worked ;)"
   ]
  },
  {
   "cell_type": "code",
   "execution_count": null,
   "metadata": {},
   "outputs": [],
   "source": [
    "check_points_gdf = postgis2gdf('SELECT * FROM points', engine)\n",
    "check_points_gdf"
   ]
  },
  {
   "cell_type": "markdown",
   "metadata": {},
   "source": [
    "BONUS: What if we only wanted the points for Berlin?"
   ]
  },
  {
   "cell_type": "code",
   "execution_count": null,
   "metadata": {},
   "outputs": [],
   "source": [
    "berlin_points_gdf = postgis2gdf('SELECT * FROM points WHERE name = \\'Berlin\\'', engine)\n",
    "berlin_points_gdf"
   ]
  },
  {
   "cell_type": "code",
   "execution_count": null,
   "metadata": {},
   "outputs": [],
   "source": []
  }
 ],
 "metadata": {
  "kernelspec": {
   "display_name": "Python 3.8.10 ('jupyter')",
   "language": "python",
   "name": "python3"
  },
  "language_info": {
   "codemirror_mode": {
    "name": "ipython",
    "version": 3
   },
   "file_extension": ".py",
   "mimetype": "text/x-python",
   "name": "python",
   "nbconvert_exporter": "python",
   "pygments_lexer": "ipython3",
   "version": "3.8.10"
  },
  "orig_nbformat": 4,
  "vscode": {
   "interpreter": {
    "hash": "b5102e3d4aa018f33caf76221d47fc506b1e654c396990879e5bd7d953b8f6f3"
   }
  }
 },
 "nbformat": 4,
 "nbformat_minor": 2
}
